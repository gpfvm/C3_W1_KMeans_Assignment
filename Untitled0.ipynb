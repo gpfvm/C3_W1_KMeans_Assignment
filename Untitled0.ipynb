{
  "nbformat": 4,
  "nbformat_minor": 0,
  "metadata": {
    "colab": {
      "provenance": [],
      "authorship_tag": "ABX9TyPnEVdze8FKSYXDpzCZlxPA",
      "include_colab_link": true
    },
    "kernelspec": {
      "name": "python3",
      "display_name": "Python 3"
    },
    "language_info": {
      "name": "python"
    }
  },
  "cells": [
    {
      "cell_type": "markdown",
      "metadata": {
        "id": "view-in-github",
        "colab_type": "text"
      },
      "source": [
        "<a href=\"https://colab.research.google.com/github/gpfvm/C3_W1_KMeans_Assignment/blob/main/Untitled0.ipynb\" target=\"_parent\"><img src=\"https://colab.research.google.com/assets/colab-badge.svg\" alt=\"Open In Colab\"/></a>"
      ]
    },
    {
      "cell_type": "code",
      "execution_count": null,
      "metadata": {
        "id": "KRv6GQS9jOCN"
      },
      "outputs": [],
      "source": [
        "'''\n",
        "API 목록 중 “/getWntyAvrgEnergyUseAmountInfoSearchV2” API를 호출하는 파이썬 코드\n",
        "를 작성하고, 2015년 1월부터 2024년 12월까지의 전국 평균 에너지 사용금액 데이터를\n",
        "수집하는 프로그램을 작성하시오. 파이썬 코드와 API 호출 성공을 확인할 수 있는 실행\n",
        "'''"
      ]
    },
    {
      "cell_type": "code",
      "source": [
        "import requests\n",
        "\n",
        "url = 'http://apis.data.go.kr/1613000/ApHusEnergyUseInfoOfferServiceV2/getWntyAvrgEnergyUseAmountInfoSearchV2'\n",
        "api_key = ''\n",
        "\n",
        "start_year = 2015\n",
        "\n",
        "def get_year_month(start_yaer):\n",
        "  year_months = []\n",
        "  for i in range(10):\n",
        "    year = start_year + i\n",
        "    for month in range(1,13):\n",
        "      year_month = f'{year}{month:02d}'\n",
        "      year_months.append(year_month)\n",
        "  return year_months\n",
        "\n",
        "# date 잘 되었는지 확인\n",
        "#print(dates)\n",
        "\n",
        "#response list\n",
        "responses = []\n",
        "\n",
        "# get API response with year and month\n",
        "def get_response(year_month):\n",
        "  params = {\n",
        "    'serviceKey': api_key,\n",
        "    'searchDate' : year_month\n",
        "  }\n",
        "  response = requests.get(url, params=params)\n",
        "  return response\n",
        "\n",
        "# test API call\n",
        "response = get_response(201501)\n",
        "\n",
        "if response.status_code == 200:\n",
        "  print(\"api 호출 성공\")\n",
        "  print(response.json())\n",
        "else:\n",
        "  print(f\"API 호출 실패: {response.status_code}\")\n",
        "\n",
        "# Get API from start year_date to end year_date\n",
        "for year_month in get_year_month(start_year):\n",
        "  response = get_response(year_month).json()\n",
        "  responses.append(response)\n",
        "\n",
        "\n",
        "\n"
      ],
      "metadata": {
        "colab": {
          "base_uri": "https://localhost:8080/"
        },
        "id": "CH8zugdkjrE-",
        "outputId": "ada63e5b-e6f3-474f-ef65-354f15e99666"
      },
      "execution_count": 3,
      "outputs": [
        {
          "output_type": "stream",
          "name": "stdout",
          "text": [
            "api 호출 성공\n",
            "{'response': {'body': {'item': {'heat': 532, 'waterHot': 132, 'gas': 5, 'elect': 674, 'waterCool': 176}}, 'header': {'resultCode': '00', 'resultMsg': 'NORMAL SERVICE.'}}}\n"
          ]
        }
      ]
    }
  ]
}